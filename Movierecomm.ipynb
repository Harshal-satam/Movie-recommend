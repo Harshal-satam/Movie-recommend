{
 "cells": [
  {
   "cell_type": "code",
   "execution_count": 2,
   "id": "aa86d578-f45f-4473-87e5-121add8c3ba8",
   "metadata": {},
   "outputs": [
    {
     "name": "stdout",
     "output_type": "stream",
     "text": [
      "Requirement already satisfied: beautifulsoup4 in c:\\users\\lenovo\\appdata\\local\\programs\\python\\python313\\lib\\site-packages (4.13.4)\n",
      "Requirement already satisfied: soupsieve>1.2 in c:\\users\\lenovo\\appdata\\local\\programs\\python\\python313\\lib\\site-packages (from beautifulsoup4) (2.7)\n",
      "Requirement already satisfied: typing-extensions>=4.0.0 in c:\\users\\lenovo\\appdata\\local\\programs\\python\\python313\\lib\\site-packages (from beautifulsoup4) (4.13.2)\n",
      "Requirement already satisfied: lxml in c:\\users\\lenovo\\appdata\\local\\programs\\python\\python313\\lib\\site-packages (6.0.0)\n"
     ]
    }
   ],
   "source": [
    "!pip install beautifulsoup4\n",
    "!pip install lxml\n"
   ]
  },
  {
   "cell_type": "code",
   "execution_count": 3,
   "id": "7b4be2e2-7f61-4163-9816-c773e088b2c8",
   "metadata": {},
   "outputs": [],
   "source": [
    "import requests\n",
    "from bs4 import BeautifulSoup\n",
    "import re"
   ]
  },
  {
   "cell_type": "code",
   "execution_count": 4,
   "id": "6af634b4-8563-4878-80ee-2cb69fb5b846",
   "metadata": {},
   "outputs": [
    {
     "name": "stdin",
     "output_type": "stream",
     "text": [
      "Enter the emotion:  Drama\n"
     ]
    },
    {
     "name": "stdout",
     "output_type": "stream",
     "text": [
      "ok https://www.imdb.com/search/title/?title_type=feature&genres=drama\n",
      "\n",
      "1. F1: The Movie\n",
      "\n",
      "2. Sinners\n",
      "\n",
      "3. How to Train Your Dragon\n",
      "\n",
      "4. Brick\n",
      "\n",
      "5. Saiyaara\n",
      "\n",
      "6. Eddington\n",
      "\n",
      "7. Wall to Wall\n"
     ]
    }
   ],
   "source": [
    "URLS = {\n",
    "    \"Drama\": 'https://www.imdb.com/search/title/?title_type=feature&genres=drama',\n",
    "    \"Action\": 'https://www.imdb.com/search/title/?title_type=feature&genres=action',\n",
    "    \"Comedy\": 'https://www.imdb.com/search/title/?title_type=feature&genres=comedy',\n",
    "    \"Horror\": 'https://www.imdb.com/search/title/?title_type=feature&genres=horror',\n",
    "    \"Crime\": 'https://www.imdb.com/search/title/?title_type=feature&genres=crime',\n",
    "}\n",
    "\n",
    "def main(emotion):\n",
    "    url = URLS.get(emotion)\n",
    "    print(\"ok\", url)\n",
    "    if not url:\n",
    "        print(\"Invalid emotion.\")\n",
    "        return []\n",
    "\n",
    "    headers = {\n",
    "    'User-Agent':\n",
    "    'Mozilla/5.0 (Windows NT 10.0; Win64; x64) AppleWebKit/537.36 (KHTML, like Gecko) Chrome/91.0.4472.124 Safari/537.36'\n",
    "}\n",
    "\n",
    "    try:\n",
    "        response = requests.get(url, headers=headers)\n",
    "        response.raise_for_status()  # Check for HTTP errors\n",
    "    except requests.RequestException as e:\n",
    "        print(f\"Error fetching data: {e}\")\n",
    "        return []\n",
    "\n",
    "    soup = BeautifulSoup(response.text, \"lxml\")\n",
    "\n",
    "    # Extract movie titles\n",
    "    titles = [a.get_text() for a in soup.find_all('a', href=re.compile(r'/title/tt\\d+/'))]\n",
    "    return titles\n",
    "\n",
    "# Driver Function\n",
    "if __name__ == '__main__':\n",
    "    emotion = input(\"Enter the emotion: \").strip()\n",
    "    movie_titles = main(emotion)\n",
    "\n",
    "    if not movie_titles:\n",
    "        print(\"No titles found.\")\n",
    "    else:\n",
    "        max_titles = 14 if emotion in [\"Drama\", \"Action\", \"Comedy\", \"Horror\", \"Crime\"] else 12\n",
    "        for title in movie_titles[:max_titles]:\n",
    "            print(title)"
   ]
  },
  {
   "cell_type": "code",
   "execution_count": null,
   "id": "da82e726-2dc4-46fe-b403-545d6da09810",
   "metadata": {},
   "outputs": [],
   "source": []
  }
 ],
 "metadata": {
  "kernelspec": {
   "display_name": "Python 3 (ipykernel)",
   "language": "python",
   "name": "python3"
  },
  "language_info": {
   "codemirror_mode": {
    "name": "ipython",
    "version": 3
   },
   "file_extension": ".py",
   "mimetype": "text/x-python",
   "name": "python",
   "nbconvert_exporter": "python",
   "pygments_lexer": "ipython3",
   "version": "3.13.3"
  }
 },
 "nbformat": 4,
 "nbformat_minor": 5
}
